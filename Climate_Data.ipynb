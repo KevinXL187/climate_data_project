{
 "cells": [
  {
   "cell_type": "code",
   "execution_count": 2,
   "metadata": {},
   "outputs": [],
   "source": [
    "# Setup\n",
    "import pandas as pd\n",
    "import plotly.graph_objects as go\n",
    "import plotly.express as px\n",
    "import numpy as np\n",
    "import ipywidgets as widgets\n",
    "import cartopy, os, re\n",
    "\n",
    "from filter import code_keydic\n",
    "from IPython.display import display\n",
    "from itertools import cycle"
   ]
  },
  {
   "cell_type": "markdown",
   "metadata": {},
   "source": [
    "# Global Climate Change\n",
    "\n",
    "## Background\n",
    "Climate Change is defined as the long-term changes in Earth's climate and weather patterns and Climate is often defined as the average weather at a particular place or as the mean state and variablility of features such as temperature, precipitiation, and humidity over some extended time period. Shifts in the climate can be natural, such as changes in the sun's activity or it can be anthropogenic. The extent of the current climate change can laragly be attributed to human actvity such as the burning of fossil fuels like coal, oil, and gas. The burning of fossil fuels generates greenhouse gas which traps the sun's heat and therefore rasies the temperature. The average tempertaure of the Earth's surface is now about 1.1 C warm than it was before the indusrial revolution. Climate change means more than just warmer temperatures, it also includes, among others, intense droughts, severe fire, rising sea level, and more intense storms.\n",
    "\n",
    "## Goals\n",
    "The goal of this project is to examine the temperature and precipitation aspects of climate data to understand global and regional trends and the realtion between climate varaibles and greenhouse gas emissions. Futhermore, it aims to model potential future scenarios based on current trends over differnt time horizen.\n",
    "    \n",
    "1. Are there discerbinle trends in temperature and precipitation over the given time period, globally and across different regions/countries?\n",
    "2. Are there regions/countries that are experiencing more drastic changes compared to others?\n",
    "3. Are there any extreme weather events that show a significant increase in frequency or itensity over time\n",
    "4. Are there any discerbinle trends in temperature and precipitation that differs between developed and developing countries?\n",
    "5. Can the data be compared with greenhouse gas emissions data to assess the realtionship between emissions and climate varaibles?\n",
    "6. If the current trends shown in the data continues without any significant change, where would we be in 10/50/100 years from now?\n"
   ]
  },
  {
   "cell_type": "markdown",
   "metadata": {},
   "source": [
    "# Data Gathering\n",
    "## Dataset\n",
    "The main dataset used in this project is the Global Historical Climatology Network - Daily (GHCN-Daily), Version 3 sourced from the National Oceanic and Atmospheric Administration. The dataset is available for public use , with the only limitations being that the \"*NOAA and NCEI cannot provide any warranty as to the accuracy, reliability, or completeness of furnished data. Users assume responsibility to determine the usability of these data. The user is responsible for the results of any application of this data for other than its intended purpose.*\"\n",
    "\n",
    "### Dataset Metadata\n",
    "File Size - 131 GB  <br>\n",
    "Number of Files - 125, 391\n",
    "\n",
    "#### Measurements:\n",
    "1. Precipitations (tenths of mm, PRCP)\n",
    "2. Temperature Max (tenths of degrees C, TMAX)\n",
    "3. Temperature Min (tenths of degrees C, TMIN)\n",
    "4. Temperature Average (tenths of degrees C, TAXN)\n",
    "5. Snowfall (mm, SNOW)\n",
    "6. Snow Depth (mm SNWD)\n",
    "\n",
    "### Data Range\n",
    ">Most Frequent Start Date: 1901-01-01      *(count: 1715)* <br>\n",
    ">Most Frequent End Date: 2024-02-08    *(count: 11137)*\n",
    ">\n",
    ">\n",
    ">Date Range: 1901-01-01 ~ 2023-12-31"
   ]
  },
  {
   "cell_type": "markdown",
   "metadata": {},
   "source": [
    "# Data Cleaning"
   ]
  },
  {
   "cell_type": "markdown",
   "metadata": {},
   "source": [
    "## Filtering Out Irrelevant and Empty Columns"
   ]
  },
  {
   "cell_type": "code",
   "execution_count": null,
   "metadata": {},
   "outputs": [],
   "source": [
    "\n",
    "def filter_csv(input_file, columns):\n",
    "    df_in = pd.read_csv(input_file, dtype=str)\n",
    "    df_columns = df_in.columns.to_list()\n",
    "\n",
    "    valid_col = [col for col in columns if col in df_columns]\n",
    "\n",
    "    #Filter the DataFrame based on columns\n",
    "    filtered_df = df_in[valid_col]\n",
    "\n",
    "    return filtered_df\n",
    "\n",
    "def check_empty_columns(df):\n",
    "    #Filters out the empty columns\n",
    "    filtered_df = df.dropna(axis=1, how=\"all\")\n",
    "\n",
    "    return filtered_df\n",
    "\n",
    "\n",
    "def filter_columns():\n",
    "    #columns names in csv file\n",
    "    col = [\"TMAX\", 'TMIN', 'TAXN', 'PRCP', 'SNOW', 'SNWD', 'DATE', 'STATION']\n",
    "\n",
    "    input_loc = r'Data\\\\'\n",
    "    output_loc = r'Filtered Data'\n",
    "\n",
    "    #filter file in dir to perfect & other folder based contents\n",
    "    for item in os.listdir(input_loc):\n",
    "        df = filter_csv(input_loc+ item, col)\n",
    "        \n",
    "        filter_df = check_empty_columns(df)\n",
    "\n",
    "        filter_df.to_csv(os.path.join(output_loc, item), index=False)\n"
   ]
  },
  {
   "cell_type": "markdown",
   "metadata": {},
   "source": [
    "## Filtering Out Files Without Requisite Data"
   ]
  },
  {
   "cell_type": "code",
   "execution_count": null,
   "metadata": {},
   "outputs": [],
   "source": [
    "def filter_columns(df):\n",
    "    temp_col = [\"TMAX\", \"TMIN\"]\n",
    "    avgTemp_col = [\"TAXN\"]\n",
    "    other_col = [\"PRCP\", 'SNOW', 'SNWD']\n",
    "\n",
    "    df_col = df.columns.to_list()\n",
    "\n",
    "    temp_cond = all(col in df_col for col in temp_col)\n",
    "    avgTemp_cond = all(col in df_col for col in avgTemp_col)\n",
    "\n",
    "    if temp_cond or avgTemp_cond:\n",
    "        if all(col in df_col for col in other_col): return 'pt' #add to perfect data\n",
    "        else: return 'tp' #add to temp data\n",
    "    else: return 'pr' #only precipitation data\n",
    "\n",
    "def run_filter():\n",
    "    #columns names in csv file\n",
    "    col = [\"TMAX\", 'TMIN', 'TAXN', 'PRCP', 'SNOW', 'SNWD', 'DATE', 'STATION']\n",
    "\n",
    "    input_loc = r'Data\\\\'\n",
    "    output_loc = r'Filtered Data'\n",
    "\n",
    "    #filter file in dir to perfect & other folder based contents\n",
    "    for item in os.listdir(input_loc):\n",
    "        filter_df = pd.read_csv(input_loc+item, dtype=str)\n",
    "\n",
    "        key = filter_columns(filter_df)\n",
    "\n",
    "        # check the key to see which folder to put csv file in Filtered Data\n",
    "        if key == 'pt': filter_df.to_csv(os.path.join(output_loc, 'Perfect', item), index=False)\n",
    "        if key == 'tp': filter_df.to_csv(os.path.join(output_loc, 'Temperature', item), index=False)\n",
    "        if key == 'pr': filter_df.to_csv(os.path.join(output_loc, 'Precipitation', item), index=False)"
   ]
  },
  {
   "cell_type": "markdown",
   "metadata": {},
   "source": [
    "## Filtering out Data Over Defined Threshold"
   ]
  },
  {
   "cell_type": "code",
   "execution_count": null,
   "metadata": {},
   "outputs": [],
   "source": [
    "def code_keydic():\n",
    "    code_loc = r'Other\\\\ghcnd-countries.txt'\n",
    "    code_key = {}\n",
    "        \n",
    "    with open(code_loc) as f:\n",
    "        data = f.readlines()\n",
    "        \n",
    "    for line in data:\n",
    "        code, country = line.split(' ', 1)\n",
    "\n",
    "        if '[' in country:\n",
    "            country = re.sub(r'\\[[^\\]]*\\]', '', country)\n",
    "            country = re.sub(r'\\s{2,}', ' ', country)\n",
    "        country = country.strip()\n",
    "\n",
    "        code_key[code] = country\n",
    "\n",
    "    return code_key\n",
    "\n",
    "def code_to_country(txt, key):\n",
    "    code = txt[:2]\n",
    "    return key[code]\n",
    "\n",
    "def filter_threshold():\n",
    "    data_loc = r'Filtered Data\\\\Perfect'\n",
    "    output_loc = r'Filtered Data\\\\Perfect Threshold'\n",
    "    thershold_datapath = r'Other\\\\Table_Extreme_Records_Hemisphere.csv'\n",
    "    \n",
    "    #countries in each hemisphere\n",
    "    with open(r'Other\\both_hemisphere.txt') as f:\n",
    "        whole = [line.strip() for line in f.readlines()]\n",
    "    with open(r'Other\\northern_hemisphere.txt') as f:\n",
    "        nth_hs = [line.strip() for line in f.readlines()]\n",
    "    with open(r'Other\\southern_hemisphere.txt') as f:\n",
    "        sth_hs = [line.strip() for line in f.readlines()]\n",
    "    \n",
    "    #country code dic\n",
    "    countrycode_dic = code_keydic()\n",
    "    \n",
    "    #threshold dataframe\n",
    "    thres_df = pd.read_csv(thershold_datapath)\n",
    "    tempMx, tempMn, prcp = [], [], []\n",
    "    \n",
    "    for index, row in thres_df.iterrows():\n",
    "        if row['Characteristic'] == 'TMAX':\n",
    "            if row['Hemisphere'] == 'Northern': tempMx.append(row['Value'])\n",
    "            if row['Hemisphere'] == 'Southern': tempMx.append(row['Value'])\n",
    "        elif row['Characteristic'] == 'TMIN':\n",
    "            if row['Hemisphere'] == 'Northern': tempMn.append(row['Value'])\n",
    "            if row['Hemisphere'] == 'Southern': tempMn.append(row['Value'])\n",
    "        elif row['Characteristic'] == 'PRCP':\n",
    "            if row['Hemisphere'] == 'Northern': prcp.append(row['Value'])\n",
    "            if row['Hemisphere'] == 'Southern': prcp.append(row['Value'])\n",
    "    \n",
    "    for item in os.listdir(data_loc):\n",
    "        code = item[:2]\n",
    "        country_name = code_to_country(code, countrycode_dic)\n",
    "\n",
    "        orgi_loc = os.path.join(data_loc, item)\n",
    "        df = pd.read_csv(orgi_loc)\n",
    "        \n",
    "        # check which hemisphere the country is in\n",
    "        if country_name in whole:\n",
    "            if df['TMAX'].max()/10 > max(tempMx): continue\n",
    "            if df['TMIN'].min()/10 < min(tempMn): continue\n",
    "            if df['PRCP'].max()/10 > max(prcp): continue\n",
    "            \n",
    "            #move files after data is validated\n",
    "            new_loc = os.path.join(output_loc, item)\n",
    "            os.replace(orgi_loc, new_loc)\n",
    "\n",
    "        elif country_name in nth_hs:\n",
    "            if df['TMAX'].max()/10 > tempMx[0]: continue\n",
    "            if df['TMIN'].min()/10 < tempMn[0]: continue\n",
    "            if df['PRCP'].max()/10 > prcp[0]: continue\n",
    "\n",
    "            #move files after data is validated\n",
    "            new_loc = os.path.join(output_loc, item)\n",
    "            os.replace(orgi_loc, new_loc)\n",
    "\n",
    "        elif country_name in sth_hs:\n",
    "            if df['TMAX'].max()/10 > tempMx[1]: continue\n",
    "            if df['TMIN'].min()/10 < tempMn[1]: continue\n",
    "            if df['PRCP'].max()/10 > prcp[1]: continue\n",
    "\n",
    "            #move files after data is validated\n",
    "            new_loc = os.path.join(output_loc, item)\n",
    "            os.replace(orgi_loc, new_loc)"
   ]
  },
  {
   "cell_type": "markdown",
   "metadata": {},
   "source": [
    "## Handling Missing Data"
   ]
  },
  {
   "cell_type": "code",
   "execution_count": null,
   "metadata": {},
   "outputs": [],
   "source": [
    "def handle_missing_data():\n",
    "    data_loc = r'Filtered Example Data\\\\Perfect Threshold'\n",
    "    output_loc = r'Filtered Example Data\\\\Ready Data'\n",
    "\n",
    "    for item in os.listdir(data_loc):\n",
    "        orgi_loc = os.path.join(data_loc, item)\n",
    "        new_loc = os.path.join(output_loc, item)\n",
    "\n",
    "        df =  pd.read_csv(orgi_loc)\n",
    "\n",
    "        count = 0\n",
    "        for col in df.columns:\n",
    "            # nan percentage is the percentage of missing data\n",
    "            nan_percentage = (df[col].isna().sum() / len(df)) * 100\n",
    "            if nan_percentage > 50: count += 1\n",
    "\n",
    "        if count == 0:  os.replace(orgi_loc, new_loc)"
   ]
  },
  {
   "cell_type": "markdown",
   "metadata": {},
   "source": [
    "## Data Aggregation (Temporal and Spatial)"
   ]
  },
  {
   "cell_type": "code",
   "execution_count": null,
   "metadata": {},
   "outputs": [],
   "source": [
    "def find_first_last_occurrence(lst):\n",
    "    occurrences = {}\n",
    "    current, first = None, None\n",
    "\n",
    "    for idx, item in enumerate(lst):\n",
    "        if item[:2] != current:\n",
    "            if current is not None: occurrences[current] = (first, idx)\n",
    "            current = item[:2]\n",
    "            first = idx\n",
    "    \n",
    "    if current is not None: occurrences[current] = (first, len(lst) - 1)\n",
    "\n",
    "    return occurrences\n",
    "\n",
    "def monthy_yearly_data():\n",
    "    data_loc = r'Filtered Data\\\\Ready Data'\n",
    "    output_loc =  r'Filtered Data\\\\Data Aggregation'\n",
    "    \n",
    "    lst_of_csv = os.listdir(data_loc)\n",
    "    lst_of_csv.sort()\n",
    "    country_code_dic = find_first_last_occurrence(lst_of_csv)\n",
    "\n",
    "    for ccode in country_code_dic.keys():\n",
    "        startIdx, endIdx = country_code_dic[ccode][0], country_code_dic[ccode][1]\n",
    "        monthly_lst, yearly_lst = [], []\n",
    "\n",
    "        for item in lst_of_csv[startIdx:endIdx]:\n",
    "            df = pd.read_csv(os.path.join(data_loc, item))\n",
    "\n",
    "            #create new year and month column from data column\n",
    "            df['DATE'] = pd.to_datetime(df['DATE'])\n",
    "            df['Year'] = df['DATE'].dt.year\n",
    "            df['Month'] = df['DATE'].dt.month\n",
    "\n",
    "            #calculate monthly and yearly average for each column\n",
    "            col_to_include = df.columns[df.columns != 'STATION']\n",
    "            monthly_avg = df.groupby(['Year', 'Month'])[col_to_include].mean()\n",
    "            yearly_avg = df.groupby(['Year'])[col_to_include].mean()\n",
    "\n",
    "            #append the results to the lists\n",
    "            monthly_lst.append(monthly_avg)\n",
    "            yearly_lst.append(yearly_avg)\n",
    "        \n",
    "        #concatenate all dataframe from all csv files that are in list\n",
    "        country_monthly_avg = pd.concat(monthly_lst)\n",
    "        country_yearly_avg = pd.concat(yearly_lst)\n",
    "\n",
    "        #drop last two duplicate columns\n",
    "        country_monthly_avg = country_monthly_avg.iloc[:, :-3]\n",
    "        country_yearly_avg = country_yearly_avg.iloc[:, :-3]\n",
    "\n",
    "        # get the mean for every year and mean for every month\n",
    "        country_monthly_avg  = country_monthly_avg.groupby(['Year', 'Month']).mean()\n",
    "        country_yearly_avg = country_yearly_avg.groupby(['Year']).mean()\n",
    "\n",
    "        # divide value in dataframe by 10 to get accurate units\n",
    "        columns_to_divide_10 = ['TMAX', 'TMIN', 'PRCP']\n",
    "        \n",
    "        country_monthly_avg[columns_to_divide_10] = country_monthly_avg[columns_to_divide_10]/10\n",
    "        country_yearly_avg[columns_to_divide_10] = country_yearly_avg[columns_to_divide_10]/10\n",
    "\n",
    "        # round all the data besides timestamp\n",
    "        columns_to_round = ['TMAX', 'TMIN', 'PRCP', 'SNOW', 'SNWD']\n",
    "\n",
    "        country_monthly_avg[columns_to_round] = country_monthly_avg[columns_to_round].round(4)\n",
    "        country_yearly_avg[columns_to_round] = country_yearly_avg[columns_to_round].round(4)\n",
    "\n",
    "        #save to csv file\n",
    "        country_monthly_avg.to_csv(os.path.join(output_loc, f'monthly_avg_{ccode}.csv'))\n",
    "        country_yearly_avg.to_csv(os.path.join(output_loc, f'yearly_avg_{ccode}.csv'))"
   ]
  },
  {
   "cell_type": "markdown",
   "metadata": {},
   "source": [
    "# Data Exploration and Feature Engineering"
   ]
  },
  {
   "cell_type": "markdown",
   "metadata": {},
   "source": [
    "### Trends\n",
    "Are there discerbinle trends in temperature and precipitation over the given time period, globally and across different regions/countries?\n",
    "Are there any extreme weather events that show a significant increase in frequency or itensity over time"
   ]
  },
  {
   "cell_type": "code",
   "execution_count": 8,
   "metadata": {},
   "outputs": [
    {
     "data": {
      "application/vnd.plotly.v1+json": {
       "config": {
        "plotlyServerURL": "https://plot.ly"
       },
       "data": [
        {
         "mode": "lines",
         "name": "Tempature Maximum",
         "type": "scatter",
         "x": [
          1900,
          1901,
          1902,
          1903,
          1904,
          1905,
          1906,
          1907,
          1908,
          1909,
          1910,
          1911,
          1912,
          1913,
          1914,
          1915,
          1916,
          1917,
          1918,
          1919,
          1920,
          1921,
          1922,
          1923,
          1924,
          1925,
          1926,
          1927,
          1928,
          1929,
          1930,
          1931,
          1932,
          1933,
          1934,
          1935,
          1936,
          1937,
          1938,
          1939,
          1940,
          1941,
          1942,
          1943,
          1944,
          1945,
          1946,
          1947,
          1948,
          1949,
          1950,
          1951,
          1952,
          1953,
          1954,
          1955,
          1956,
          1957,
          1958,
          1959,
          1960,
          1961,
          1962,
          1963,
          1964,
          1965,
          1966,
          1967,
          1968,
          1969,
          1970,
          1971,
          1972,
          1973,
          1974,
          1975,
          1976,
          1977,
          1978,
          1979,
          1980,
          1981,
          1982,
          1983,
          1984,
          1985,
          1986,
          1987,
          1988,
          1989,
          1990,
          1991,
          1992,
          1993,
          1994,
          1995,
          1996,
          1997,
          1998,
          1999,
          2000,
          2001,
          2002,
          2003,
          2004,
          2005,
          2006,
          2007,
          2008,
          2009,
          2010,
          2011,
          2012,
          2013,
          2014,
          2015,
          2016,
          2017,
          2018,
          2019,
          2020,
          2021,
          2022,
          2023
         ],
         "y": [
          null,
          30.1688,
          29.9802,
          29.5032,
          31.2573,
          30.1654,
          28.3392,
          30.7561,
          30.2045,
          25.2389
         ]
        },
        {
         "mode": "lines",
         "name": "Tempature Minimum",
         "type": "scatter",
         "x": [
          1900,
          1901,
          1902,
          1903,
          1904,
          1905,
          1906,
          1907,
          1908,
          1909,
          1910,
          1911,
          1912,
          1913,
          1914,
          1915,
          1916,
          1917,
          1918,
          1919,
          1920,
          1921,
          1922,
          1923,
          1924,
          1925,
          1926,
          1927,
          1928,
          1929,
          1930,
          1931,
          1932,
          1933,
          1934,
          1935,
          1936,
          1937,
          1938,
          1939,
          1940,
          1941,
          1942,
          1943,
          1944,
          1945,
          1946,
          1947,
          1948,
          1949,
          1950,
          1951,
          1952,
          1953,
          1954,
          1955,
          1956,
          1957,
          1958,
          1959,
          1960,
          1961,
          1962,
          1963,
          1964,
          1965,
          1966,
          1967,
          1968,
          1969,
          1970,
          1971,
          1972,
          1973,
          1974,
          1975,
          1976,
          1977,
          1978,
          1979,
          1980,
          1981,
          1982,
          1983,
          1984,
          1985,
          1986,
          1987,
          1988,
          1989,
          1990,
          1991,
          1992,
          1993,
          1994,
          1995,
          1996,
          1997,
          1998,
          1999,
          2000,
          2001,
          2002,
          2003,
          2004,
          2005,
          2006,
          2007,
          2008,
          2009,
          2010,
          2011,
          2012,
          2013,
          2014,
          2015,
          2016,
          2017,
          2018,
          2019,
          2020,
          2021,
          2022,
          2023
         ],
         "y": [
          null,
          21.4679,
          21.4185,
          21.9757,
          23.5488,
          22.3755,
          21.1135,
          23.1418,
          23.2992,
          19.5989
         ]
        },
        {
         "mode": "lines",
         "name": "Precpation",
         "type": "scatter",
         "x": [
          1900,
          1901,
          1902,
          1903,
          1904,
          1905,
          1906,
          1907,
          1908,
          1909,
          1910,
          1911,
          1912,
          1913,
          1914,
          1915,
          1916,
          1917,
          1918,
          1919,
          1920,
          1921,
          1922,
          1923,
          1924,
          1925,
          1926,
          1927,
          1928,
          1929,
          1930,
          1931,
          1932,
          1933,
          1934,
          1935,
          1936,
          1937,
          1938,
          1939,
          1940,
          1941,
          1942,
          1943,
          1944,
          1945,
          1946,
          1947,
          1948,
          1949,
          1950,
          1951,
          1952,
          1953,
          1954,
          1955,
          1956,
          1957,
          1958,
          1959,
          1960,
          1961,
          1962,
          1963,
          1964,
          1965,
          1966,
          1967,
          1968,
          1969,
          1970,
          1971,
          1972,
          1973,
          1974,
          1975,
          1976,
          1977,
          1978,
          1979,
          1980,
          1981,
          1982,
          1983,
          1984,
          1985,
          1986,
          1987,
          1988,
          1989,
          1990,
          1991,
          1992,
          1993,
          1994,
          1995,
          1996,
          1997,
          1998,
          1999,
          2000,
          2001,
          2002,
          2003,
          2004,
          2005,
          2006,
          2007,
          2008,
          2009,
          2010,
          2011,
          2012,
          2013,
          2014,
          2015,
          2016,
          2017,
          2018,
          2019,
          2020,
          2021,
          2022,
          2023
         ],
         "y": [
          null,
          5.6161,
          5.2165,
          5.8059,
          5.8528,
          5.1484,
          4.4035,
          6.2259,
          3.5427,
          0.9611
         ]
        },
        {
         "mode": "lines",
         "name": "Snow Fall",
         "type": "scatter",
         "x": [
          1900,
          1901,
          1902,
          1903,
          1904,
          1905,
          1906,
          1907,
          1908,
          1909,
          1910,
          1911,
          1912,
          1913,
          1914,
          1915,
          1916,
          1917,
          1918,
          1919,
          1920,
          1921,
          1922,
          1923,
          1924,
          1925,
          1926,
          1927,
          1928,
          1929,
          1930,
          1931,
          1932,
          1933,
          1934,
          1935,
          1936,
          1937,
          1938,
          1939,
          1940,
          1941,
          1942,
          1943,
          1944,
          1945,
          1946,
          1947,
          1948,
          1949,
          1950,
          1951,
          1952,
          1953,
          1954,
          1955,
          1956,
          1957,
          1958,
          1959,
          1960,
          1961,
          1962,
          1963,
          1964,
          1965,
          1966,
          1967,
          1968,
          1969,
          1970,
          1971,
          1972,
          1973,
          1974,
          1975,
          1976,
          1977,
          1978,
          1979,
          1980,
          1981,
          1982,
          1983,
          1984,
          1985,
          1986,
          1987,
          1988,
          1989,
          1990,
          1991,
          1992,
          1993,
          1994,
          1995,
          1996,
          1997,
          1998,
          1999,
          2000,
          2001,
          2002,
          2003,
          2004,
          2005,
          2006,
          2007,
          2008,
          2009,
          2010,
          2011,
          2012,
          2013,
          2014,
          2015,
          2016,
          2017,
          2018,
          2019,
          2020,
          2021,
          2022,
          2023
         ],
         "y": [
          null,
          0,
          0,
          0,
          0,
          0,
          0,
          0,
          0,
          0
         ]
        },
        {
         "mode": "lines",
         "name": "Snow Depth",
         "type": "scatter",
         "x": [
          1900,
          1901,
          1902,
          1903,
          1904,
          1905,
          1906,
          1907,
          1908,
          1909,
          1910,
          1911,
          1912,
          1913,
          1914,
          1915,
          1916,
          1917,
          1918,
          1919,
          1920,
          1921,
          1922,
          1923,
          1924,
          1925,
          1926,
          1927,
          1928,
          1929,
          1930,
          1931,
          1932,
          1933,
          1934,
          1935,
          1936,
          1937,
          1938,
          1939,
          1940,
          1941,
          1942,
          1943,
          1944,
          1945,
          1946,
          1947,
          1948,
          1949,
          1950,
          1951,
          1952,
          1953,
          1954,
          1955,
          1956,
          1957,
          1958,
          1959,
          1960,
          1961,
          1962,
          1963,
          1964,
          1965,
          1966,
          1967,
          1968,
          1969,
          1970,
          1971,
          1972,
          1973,
          1974,
          1975,
          1976,
          1977,
          1978,
          1979,
          1980,
          1981,
          1982,
          1983,
          1984,
          1985,
          1986,
          1987,
          1988,
          1989,
          1990,
          1991,
          1992,
          1993,
          1994,
          1995,
          1996,
          1997,
          1998,
          1999,
          2000,
          2001,
          2002,
          2003,
          2004,
          2005,
          2006,
          2007,
          2008,
          2009,
          2010,
          2011,
          2012,
          2013,
          2014,
          2015,
          2016,
          2017,
          2018,
          2019,
          2020,
          2021,
          2022,
          2023
         ],
         "y": [
          0,
          0,
          0,
          0,
          0,
          0,
          0,
          0,
          0,
          0
         ]
        }
       ],
       "layout": {
        "template": {
         "data": {
          "bar": [
           {
            "error_x": {
             "color": "#2a3f5f"
            },
            "error_y": {
             "color": "#2a3f5f"
            },
            "marker": {
             "line": {
              "color": "#E5ECF6",
              "width": 0.5
             },
             "pattern": {
              "fillmode": "overlay",
              "size": 10,
              "solidity": 0.2
             }
            },
            "type": "bar"
           }
          ],
          "barpolar": [
           {
            "marker": {
             "line": {
              "color": "#E5ECF6",
              "width": 0.5
             },
             "pattern": {
              "fillmode": "overlay",
              "size": 10,
              "solidity": 0.2
             }
            },
            "type": "barpolar"
           }
          ],
          "carpet": [
           {
            "aaxis": {
             "endlinecolor": "#2a3f5f",
             "gridcolor": "white",
             "linecolor": "white",
             "minorgridcolor": "white",
             "startlinecolor": "#2a3f5f"
            },
            "baxis": {
             "endlinecolor": "#2a3f5f",
             "gridcolor": "white",
             "linecolor": "white",
             "minorgridcolor": "white",
             "startlinecolor": "#2a3f5f"
            },
            "type": "carpet"
           }
          ],
          "choropleth": [
           {
            "colorbar": {
             "outlinewidth": 0,
             "ticks": ""
            },
            "type": "choropleth"
           }
          ],
          "contour": [
           {
            "colorbar": {
             "outlinewidth": 0,
             "ticks": ""
            },
            "colorscale": [
             [
              0,
              "#0d0887"
             ],
             [
              0.1111111111111111,
              "#46039f"
             ],
             [
              0.2222222222222222,
              "#7201a8"
             ],
             [
              0.3333333333333333,
              "#9c179e"
             ],
             [
              0.4444444444444444,
              "#bd3786"
             ],
             [
              0.5555555555555556,
              "#d8576b"
             ],
             [
              0.6666666666666666,
              "#ed7953"
             ],
             [
              0.7777777777777778,
              "#fb9f3a"
             ],
             [
              0.8888888888888888,
              "#fdca26"
             ],
             [
              1,
              "#f0f921"
             ]
            ],
            "type": "contour"
           }
          ],
          "contourcarpet": [
           {
            "colorbar": {
             "outlinewidth": 0,
             "ticks": ""
            },
            "type": "contourcarpet"
           }
          ],
          "heatmap": [
           {
            "colorbar": {
             "outlinewidth": 0,
             "ticks": ""
            },
            "colorscale": [
             [
              0,
              "#0d0887"
             ],
             [
              0.1111111111111111,
              "#46039f"
             ],
             [
              0.2222222222222222,
              "#7201a8"
             ],
             [
              0.3333333333333333,
              "#9c179e"
             ],
             [
              0.4444444444444444,
              "#bd3786"
             ],
             [
              0.5555555555555556,
              "#d8576b"
             ],
             [
              0.6666666666666666,
              "#ed7953"
             ],
             [
              0.7777777777777778,
              "#fb9f3a"
             ],
             [
              0.8888888888888888,
              "#fdca26"
             ],
             [
              1,
              "#f0f921"
             ]
            ],
            "type": "heatmap"
           }
          ],
          "heatmapgl": [
           {
            "colorbar": {
             "outlinewidth": 0,
             "ticks": ""
            },
            "colorscale": [
             [
              0,
              "#0d0887"
             ],
             [
              0.1111111111111111,
              "#46039f"
             ],
             [
              0.2222222222222222,
              "#7201a8"
             ],
             [
              0.3333333333333333,
              "#9c179e"
             ],
             [
              0.4444444444444444,
              "#bd3786"
             ],
             [
              0.5555555555555556,
              "#d8576b"
             ],
             [
              0.6666666666666666,
              "#ed7953"
             ],
             [
              0.7777777777777778,
              "#fb9f3a"
             ],
             [
              0.8888888888888888,
              "#fdca26"
             ],
             [
              1,
              "#f0f921"
             ]
            ],
            "type": "heatmapgl"
           }
          ],
          "histogram": [
           {
            "marker": {
             "pattern": {
              "fillmode": "overlay",
              "size": 10,
              "solidity": 0.2
             }
            },
            "type": "histogram"
           }
          ],
          "histogram2d": [
           {
            "colorbar": {
             "outlinewidth": 0,
             "ticks": ""
            },
            "colorscale": [
             [
              0,
              "#0d0887"
             ],
             [
              0.1111111111111111,
              "#46039f"
             ],
             [
              0.2222222222222222,
              "#7201a8"
             ],
             [
              0.3333333333333333,
              "#9c179e"
             ],
             [
              0.4444444444444444,
              "#bd3786"
             ],
             [
              0.5555555555555556,
              "#d8576b"
             ],
             [
              0.6666666666666666,
              "#ed7953"
             ],
             [
              0.7777777777777778,
              "#fb9f3a"
             ],
             [
              0.8888888888888888,
              "#fdca26"
             ],
             [
              1,
              "#f0f921"
             ]
            ],
            "type": "histogram2d"
           }
          ],
          "histogram2dcontour": [
           {
            "colorbar": {
             "outlinewidth": 0,
             "ticks": ""
            },
            "colorscale": [
             [
              0,
              "#0d0887"
             ],
             [
              0.1111111111111111,
              "#46039f"
             ],
             [
              0.2222222222222222,
              "#7201a8"
             ],
             [
              0.3333333333333333,
              "#9c179e"
             ],
             [
              0.4444444444444444,
              "#bd3786"
             ],
             [
              0.5555555555555556,
              "#d8576b"
             ],
             [
              0.6666666666666666,
              "#ed7953"
             ],
             [
              0.7777777777777778,
              "#fb9f3a"
             ],
             [
              0.8888888888888888,
              "#fdca26"
             ],
             [
              1,
              "#f0f921"
             ]
            ],
            "type": "histogram2dcontour"
           }
          ],
          "mesh3d": [
           {
            "colorbar": {
             "outlinewidth": 0,
             "ticks": ""
            },
            "type": "mesh3d"
           }
          ],
          "parcoords": [
           {
            "line": {
             "colorbar": {
              "outlinewidth": 0,
              "ticks": ""
             }
            },
            "type": "parcoords"
           }
          ],
          "pie": [
           {
            "automargin": true,
            "type": "pie"
           }
          ],
          "scatter": [
           {
            "fillpattern": {
             "fillmode": "overlay",
             "size": 10,
             "solidity": 0.2
            },
            "type": "scatter"
           }
          ],
          "scatter3d": [
           {
            "line": {
             "colorbar": {
              "outlinewidth": 0,
              "ticks": ""
             }
            },
            "marker": {
             "colorbar": {
              "outlinewidth": 0,
              "ticks": ""
             }
            },
            "type": "scatter3d"
           }
          ],
          "scattercarpet": [
           {
            "marker": {
             "colorbar": {
              "outlinewidth": 0,
              "ticks": ""
             }
            },
            "type": "scattercarpet"
           }
          ],
          "scattergeo": [
           {
            "marker": {
             "colorbar": {
              "outlinewidth": 0,
              "ticks": ""
             }
            },
            "type": "scattergeo"
           }
          ],
          "scattergl": [
           {
            "marker": {
             "colorbar": {
              "outlinewidth": 0,
              "ticks": ""
             }
            },
            "type": "scattergl"
           }
          ],
          "scattermapbox": [
           {
            "marker": {
             "colorbar": {
              "outlinewidth": 0,
              "ticks": ""
             }
            },
            "type": "scattermapbox"
           }
          ],
          "scatterpolar": [
           {
            "marker": {
             "colorbar": {
              "outlinewidth": 0,
              "ticks": ""
             }
            },
            "type": "scatterpolar"
           }
          ],
          "scatterpolargl": [
           {
            "marker": {
             "colorbar": {
              "outlinewidth": 0,
              "ticks": ""
             }
            },
            "type": "scatterpolargl"
           }
          ],
          "scatterternary": [
           {
            "marker": {
             "colorbar": {
              "outlinewidth": 0,
              "ticks": ""
             }
            },
            "type": "scatterternary"
           }
          ],
          "surface": [
           {
            "colorbar": {
             "outlinewidth": 0,
             "ticks": ""
            },
            "colorscale": [
             [
              0,
              "#0d0887"
             ],
             [
              0.1111111111111111,
              "#46039f"
             ],
             [
              0.2222222222222222,
              "#7201a8"
             ],
             [
              0.3333333333333333,
              "#9c179e"
             ],
             [
              0.4444444444444444,
              "#bd3786"
             ],
             [
              0.5555555555555556,
              "#d8576b"
             ],
             [
              0.6666666666666666,
              "#ed7953"
             ],
             [
              0.7777777777777778,
              "#fb9f3a"
             ],
             [
              0.8888888888888888,
              "#fdca26"
             ],
             [
              1,
              "#f0f921"
             ]
            ],
            "type": "surface"
           }
          ],
          "table": [
           {
            "cells": {
             "fill": {
              "color": "#EBF0F8"
             },
             "line": {
              "color": "white"
             }
            },
            "header": {
             "fill": {
              "color": "#C8D4E3"
             },
             "line": {
              "color": "white"
             }
            },
            "type": "table"
           }
          ]
         },
         "layout": {
          "annotationdefaults": {
           "arrowcolor": "#2a3f5f",
           "arrowhead": 0,
           "arrowwidth": 1
          },
          "autotypenumbers": "strict",
          "coloraxis": {
           "colorbar": {
            "outlinewidth": 0,
            "ticks": ""
           }
          },
          "colorscale": {
           "diverging": [
            [
             0,
             "#8e0152"
            ],
            [
             0.1,
             "#c51b7d"
            ],
            [
             0.2,
             "#de77ae"
            ],
            [
             0.3,
             "#f1b6da"
            ],
            [
             0.4,
             "#fde0ef"
            ],
            [
             0.5,
             "#f7f7f7"
            ],
            [
             0.6,
             "#e6f5d0"
            ],
            [
             0.7,
             "#b8e186"
            ],
            [
             0.8,
             "#7fbc41"
            ],
            [
             0.9,
             "#4d9221"
            ],
            [
             1,
             "#276419"
            ]
           ],
           "sequential": [
            [
             0,
             "#0d0887"
            ],
            [
             0.1111111111111111,
             "#46039f"
            ],
            [
             0.2222222222222222,
             "#7201a8"
            ],
            [
             0.3333333333333333,
             "#9c179e"
            ],
            [
             0.4444444444444444,
             "#bd3786"
            ],
            [
             0.5555555555555556,
             "#d8576b"
            ],
            [
             0.6666666666666666,
             "#ed7953"
            ],
            [
             0.7777777777777778,
             "#fb9f3a"
            ],
            [
             0.8888888888888888,
             "#fdca26"
            ],
            [
             1,
             "#f0f921"
            ]
           ],
           "sequentialminus": [
            [
             0,
             "#0d0887"
            ],
            [
             0.1111111111111111,
             "#46039f"
            ],
            [
             0.2222222222222222,
             "#7201a8"
            ],
            [
             0.3333333333333333,
             "#9c179e"
            ],
            [
             0.4444444444444444,
             "#bd3786"
            ],
            [
             0.5555555555555556,
             "#d8576b"
            ],
            [
             0.6666666666666666,
             "#ed7953"
            ],
            [
             0.7777777777777778,
             "#fb9f3a"
            ],
            [
             0.8888888888888888,
             "#fdca26"
            ],
            [
             1,
             "#f0f921"
            ]
           ]
          },
          "colorway": [
           "#636efa",
           "#EF553B",
           "#00cc96",
           "#ab63fa",
           "#FFA15A",
           "#19d3f3",
           "#FF6692",
           "#B6E880",
           "#FF97FF",
           "#FECB52"
          ],
          "font": {
           "color": "#2a3f5f"
          },
          "geo": {
           "bgcolor": "white",
           "lakecolor": "white",
           "landcolor": "#E5ECF6",
           "showlakes": true,
           "showland": true,
           "subunitcolor": "white"
          },
          "hoverlabel": {
           "align": "left"
          },
          "hovermode": "closest",
          "mapbox": {
           "style": "light"
          },
          "paper_bgcolor": "white",
          "plot_bgcolor": "#E5ECF6",
          "polar": {
           "angularaxis": {
            "gridcolor": "white",
            "linecolor": "white",
            "ticks": ""
           },
           "bgcolor": "#E5ECF6",
           "radialaxis": {
            "gridcolor": "white",
            "linecolor": "white",
            "ticks": ""
           }
          },
          "scene": {
           "xaxis": {
            "backgroundcolor": "#E5ECF6",
            "gridcolor": "white",
            "gridwidth": 2,
            "linecolor": "white",
            "showbackground": true,
            "ticks": "",
            "zerolinecolor": "white"
           },
           "yaxis": {
            "backgroundcolor": "#E5ECF6",
            "gridcolor": "white",
            "gridwidth": 2,
            "linecolor": "white",
            "showbackground": true,
            "ticks": "",
            "zerolinecolor": "white"
           },
           "zaxis": {
            "backgroundcolor": "#E5ECF6",
            "gridcolor": "white",
            "gridwidth": 2,
            "linecolor": "white",
            "showbackground": true,
            "ticks": "",
            "zerolinecolor": "white"
           }
          },
          "shapedefaults": {
           "line": {
            "color": "#2a3f5f"
           }
          },
          "ternary": {
           "aaxis": {
            "gridcolor": "white",
            "linecolor": "white",
            "ticks": ""
           },
           "baxis": {
            "gridcolor": "white",
            "linecolor": "white",
            "ticks": ""
           },
           "bgcolor": "#E5ECF6",
           "caxis": {
            "gridcolor": "white",
            "linecolor": "white",
            "ticks": ""
           }
          },
          "title": {
           "x": 0.05
          },
          "xaxis": {
           "automargin": true,
           "gridcolor": "white",
           "linecolor": "white",
           "ticks": "",
           "title": {
            "standoff": 15
           },
           "zerolinecolor": "white",
           "zerolinewidth": 2
          },
          "yaxis": {
           "automargin": true,
           "gridcolor": "white",
           "linecolor": "white",
           "ticks": "",
           "title": {
            "standoff": 15
           },
           "zerolinecolor": "white",
           "zerolinewidth": 2
          }
         }
        },
        "title": {
         "text": "Temperature Country Line Graph"
        },
        "updatemenus": [
         {
          "buttons": [
           {
            "args": [
             {
              "visible": [
               true,
               true,
               false,
               false,
               false
              ]
             },
             {
              "title": "Maximum and Minimum Temperature",
              "yaxis": {
               "title": "Temperature in degree °C"
              }
             }
            ],
            "label": "Temperature",
            "method": "update"
           },
           {
            "args": [
             {
              "visible": [
               false,
               false,
               true,
               true,
               true
              ]
             },
             {
              "title": "Precipitation",
              "yaxis": {
               "title": "Precipitation in mm"
              }
             }
            ],
            "label": "Precipitation",
            "method": "update"
           }
          ],
          "direction": "down",
          "pad": {
           "r": 10,
           "t": 10
          },
          "showactive": true,
          "x": 0,
          "xanchor": "left",
          "y": 1.2,
          "yanchor": "top"
         }
        ],
        "xaxis": {
         "title": {
          "text": "Year"
         }
        },
        "yaxis": {
         "title": {
          "text": "Maximum Temperature in degree °C"
         }
        }
       }
      }
     },
     "metadata": {},
     "output_type": "display_data"
    }
   ],
   "source": [
    "# path to data\n",
    "data_loc = r'Filtered Data\\Data Aggregation'\n",
    "\n",
    "# list to store DataFrame from each CSV file\n",
    "dfs = {}\n",
    "\n",
    "# loop through each file and add to list\n",
    "for file in os.listdir(data_loc):\n",
    "    if 'yearly' in file:\n",
    "        key_dic = code_keydic()\n",
    "        country, ext = file.split('.')\n",
    "        country_name =  key_dic[country[-2:]]\n",
    "\n",
    "        file_path = os.path.join(data_loc, file)\n",
    "        df = pd.read_csv(file_path)\n",
    "        dfs[country_name] = df\n",
    "\n",
    "# dataframe to plot on graph and time values\n",
    "year_value = list(range(1900, 2024))\n",
    "final_dfs = pd.concat(list(dfs.values()), ignore_index=True)\n",
    "\n",
    "# create traces for each line\n",
    "tmax_traces, tmin_traces, precp_traces, snow_traces, snowD_traces= [], [], [], [], []\n",
    "\n",
    "trace = go.Scatter(x=year_value, y=df['TMAX'], mode='lines', name='Tempature Maximum')\n",
    "tmax_traces.append(trace)\n",
    "\n",
    "trace = go.Scatter(x=year_value, y=df['TMIN'], mode='lines', name='Tempature Minimum')\n",
    "tmin_traces.append(trace)\n",
    "\n",
    "trace = go.Scatter(x=year_value, y=df['PRCP'], mode='lines', name='Precpation')\n",
    "precp_traces.append(trace)\n",
    "\n",
    "trace = go.Scatter(x=year_value, y=df['SNOW'], mode='lines', name='Snow Fall')\n",
    "snow_traces.append(trace)\n",
    "\n",
    "trace = go.Scatter(x=year_value, y=df['SNWD'], mode='lines', name='Snow Depth')\n",
    "snowD_traces.append(trace)\n",
    "\n",
    "# Define the initial data to be displayed\n",
    "initial_traces = tmax_traces + tmin_traces + precp_traces + snow_traces + snowD_traces\n",
    "\n",
    "# graph layout\n",
    "graph_layout = go.Layout(title='Temperature Country Line Graph',\n",
    "                         xaxis=dict(title='Year'),\n",
    "                         yaxis=dict(title='Maximum Temperature in degree °C'),\n",
    "                         updatemenus=[\n",
    "                             dict(\n",
    "                                 buttons=list([\n",
    "                                     dict(label='Temperature',\n",
    "                                          method='update',\n",
    "                                          args=[{'visible': [True] * len(tmax_traces) + [True] * len(tmin_traces) + [False] * (len(initial_traces) - len(tmax_traces) - len(tmin_traces))},\n",
    "                                                {'title': 'Maximum and Minimum Temperature',\n",
    "                                                 'yaxis': {'title': 'Temperature in degree °C'}}]),\n",
    "                                     \n",
    "                                     dict(label='Precipitation',\n",
    "                                          method='update',\n",
    "                                          args=[{'visible': [False] * (len(tmax_traces) + len(tmin_traces)) + [True] * len(precp_traces) + [True] * len(snow_traces) + [True] * len(snowD_traces)},\n",
    "                                                {'title': 'Precipitation',\n",
    "                                                 'yaxis': {'title': 'Precipitation in mm'}}]),\n",
    "                                 ]),\n",
    "                                 direction='down',\n",
    "                                 pad={'r': 10, 't': 10},\n",
    "                                 showactive=True,\n",
    "                                 x=0,\n",
    "                                 xanchor='left',\n",
    "                                 y=1.2,\n",
    "                                 yanchor='top'\n",
    "                             ),\n",
    "                         ])\n",
    "# Create the figure\n",
    "fig = go.Figure(data=initial_traces, layout=graph_layout)\n",
    "\n",
    "# Show the figure\n",
    "fig.show()"
   ]
  },
  {
   "cell_type": "code",
   "execution_count": null,
   "metadata": {},
   "outputs": [],
   "source": []
  },
  {
   "cell_type": "markdown",
   "metadata": {},
   "source": [
    "### Regional Trend Comparison\n",
    "Are there regions/countries that are experiencing more drastic changes compared to others?\n",
    "Are there any discerbinle trends in temperature and precipitation that differs between developed and developing countries?"
   ]
  },
  {
   "cell_type": "code",
   "execution_count": null,
   "metadata": {},
   "outputs": [],
   "source": [
    "# path to data\n",
    "data_loc = r'Filtered Data\\Data Aggregation'\n",
    "\n",
    "# list to store DataFrame from each CSV file\n",
    "dfs = {}\n",
    "\n",
    "# loop through each file and add to list\n",
    "for file in os.listdir(data_loc):\n",
    "    if 'yearly' in file:\n",
    "        key_dic = code_keydic()\n",
    "        country, ext = file.split('.')\n",
    "        country_name =  key_dic[country[-2:]]\n",
    "\n",
    "        file_path = os.path.join(data_loc, file)\n",
    "        df = pd.read_csv(file_path)\n",
    "        dfs[country_name] = df\n",
    "\n",
    "# create traces for each line\n",
    "year_value = list(range(1900, 2024))\n",
    "tmax_traces, tmin_traces, precp_traces, snow_traces, snowD_traces= [], [], [], [], []\n",
    "\n",
    "for country_name, df in dfs.items():\n",
    "    trace = go.Scatter(x=year_value, y=df['TMAX'], mode='lines', name=country_name)\n",
    "    tmax_traces.append(trace)\n",
    "\n",
    "    trace = go.Scatter(x=year_value, y=df['TMIN'], mode='lines', name=country_name)\n",
    "    tmin_traces.append(trace)\n",
    "\n",
    "    trace = go.Scatter(x=year_value, y=df['PRCP'], mode='lines', name=country_name)\n",
    "    precp_traces.append(trace)\n",
    "\n",
    "    trace = go.Scatter(x=year_value, y=df['SNOW'], mode='lines', name=country_name)\n",
    "    snow_traces.append(trace)\n",
    "\n",
    "    trace = go.Scatter(x=year_value, y=df['SNWD'], mode='lines', name=country_name)\n",
    "    snowD_traces.append(trace)\n",
    "\n",
    "# Define the initial data to be displayed\n",
    "initial_traces = tmax_traces + tmin_traces + precp_traces + snow_traces + snowD_traces\n",
    "\n",
    "# Define the layout with dropdown menu\n",
    "graph_layout = go.Layout(title='Temperature Country Line Graph',\n",
    "                         xaxis=dict(title='Year'),\n",
    "                         yaxis=dict(title='Maximum Temperature in degree °C'),\n",
    "                         updatemenus=[\n",
    "                             dict(\n",
    "                                 buttons=list([\n",
    "                                     dict(label='Maximum Temperature',\n",
    "                                          method='update',\n",
    "                                          args=[{'visible': [True] * len(tmax_traces) + [False] * (len(initial_traces) - len(tmax_traces))},\n",
    "                                                {'title': 'Maximum Temperature',\n",
    "                                                 'yaxis': {'title': 'Maximum Temperature in degree °C'}}]),\n",
    "                                     dict(label='Minimum Temperature',\n",
    "                                          method='update',\n",
    "                                          args=[{'visible': [False] * len(tmax_traces) + [True] * len(tmin_traces) + [False] * (len(initial_traces) - len(tmax_traces) - len(tmin_traces))},\n",
    "                                                {'title': 'Minimum Temperature',\n",
    "                                                 'yaxis': {'title': 'Minimum Temperature in degree °C'}}]),\n",
    "                                     dict(label='Precipitation',\n",
    "                                          method='update',\n",
    "                                          args=[{'visible': [False] * (len(tmax_traces) + len(tmin_traces)) + [True] * len(precp_traces) + [False] * (len(initial_traces) - len(tmax_traces) - len(tmin_traces) - len(precp_traces))},\n",
    "                                                {'title': 'Precipitation',\n",
    "                                                 'yaxis': {'title': 'Precipitation in mm'}}]),\n",
    "                                     dict(label='Snowfall',\n",
    "                                          method='update',\n",
    "                                          args=[{'visible': [False] * (len(tmax_traces) + len(tmin_traces) + len(precp_traces)) + [True] * len(snow_traces) + [False] * (len(initial_traces) - len(tmax_traces) - len(tmin_traces) - len(precp_traces) - len(snow_traces))},\n",
    "                                                {'title': 'Snowfall',\n",
    "                                                 'yaxis': {'title': 'Snowfall in mm'}}]),\n",
    "                                     dict(label='Snow Depth',\n",
    "                                          method='update',\n",
    "                                          args=[{'visible': [False] * (len(tmax_traces) + len(tmin_traces) + len(precp_traces) + len(snow_traces)) + [True] * len(snowD_traces)},\n",
    "                                                {'title': 'Snow Depth',\n",
    "                                                 'yaxis': {'title': 'Snow Depth in mm'}}]),\n",
    "                                 ]),\n",
    "                                 direction='down',\n",
    "                                 pad={'r': 10, 't': 10},\n",
    "                                 showactive=True,\n",
    "                                 x=0,\n",
    "                                 xanchor='left',\n",
    "                                 y=1.2,\n",
    "                                 yanchor='top'\n",
    "                             ),\n",
    "                         ])\n",
    "\n",
    "# Create the figure\n",
    "fig = go.Figure(data=initial_traces, layout=graph_layout)\n",
    "\n",
    "# Show the figure\n",
    "fig.show()"
   ]
  },
  {
   "cell_type": "code",
   "execution_count": null,
   "metadata": {},
   "outputs": [],
   "source": [
    "# path to data\n",
    "data_loc = r'Filtered Data\\Data Aggregation'\n",
    "\n",
    "# list to store DataFrame from each CSV file\n",
    "dfs = {}\n",
    "\n",
    "# loop through each file and add to list\n",
    "for file in os.listdir(data_loc):\n",
    "    if 'yearly' in file:\n",
    "        key_dic = code_keydic()\n",
    "        country, ext = file.split('.')\n",
    "        country_name =  key_dic[country[-2:]]\n",
    "\n",
    "        file_path = os.path.join(data_loc, file)\n",
    "        df = pd.read_csv(file_path)\n",
    "        dfs[country_name] = df\n",
    "\n",
    "# Define a color scale (using continuous color mapping)\n",
    "color_cycle = cycle(px.colors.qualitative.Plotly)\n",
    "\n",
    "# create traces for each line\n",
    "tmax_traces, tmin_traces, precp_traces, snow_traces, snowD_traces= [], [], [], [], []\n",
    "\n",
    "for country_name, df in dfs.items():\n",
    "\n",
    "    # the unique color for country\n",
    "    country_color = next(color_cycle)\n",
    "\n",
    "    # added country col for px.scatter color parameter for legend\n",
    "    df['Country'] = country_name\n",
    "\n",
    "    scatter = px.scatter(df, x=df['Year'], y=df['TMAX'], trendline='ols', color_discrete_sequence=[country_color], color='Country')\n",
    "    for traces in scatter.data:\n",
    "        traces.name = country_name\n",
    "        tmax_traces.append(traces)\n",
    "\n",
    "    scatter = px.scatter(df, x=df['Year'], y=df['TMIN'], trendline='ols', color_discrete_sequence=[country_color], color='Country')\n",
    "    for traces in scatter.data:\n",
    "        traces.name = country_name\n",
    "        tmin_traces.append(traces)\n",
    "\n",
    "    scatter = px.scatter(df, x=df['Year'], y=df['PRCP'], trendline='ols', color_discrete_sequence=[country_color], color='Country')\n",
    "    for traces in scatter.data:\n",
    "        traces.name = country_name\n",
    "        precp_traces.append(traces)\n",
    "\n",
    "    scatter = px.scatter(df, x=df['Year'], y=df['SNOW'], trendline='ols', color_discrete_sequence=[country_color], color='Country')\n",
    "    for traces in scatter.data:\n",
    "        traces.name = country_name\n",
    "        snow_traces.append(traces)\n",
    "\n",
    "    scatter = px.scatter(df, x=df['Year'], y=df['SNWD'], trendline='ols', color_discrete_sequence=[country_color], color='Country')\n",
    "    for traces in scatter.data:\n",
    "        traces.name = country_name\n",
    "        snowD_traces.append(traces)\n",
    "\n",
    "# Define the initial data to be displayed\n",
    "initial_traces = tmax_traces + tmin_traces + precp_traces + snow_traces + snowD_traces\n",
    "\n",
    "# Define the layout with dropdown menu\n",
    "graph_layout = go.Layout(title='Temperature Country Line Graph',\n",
    "                         xaxis=dict(title='Year'),\n",
    "                         yaxis=dict(title='Maximum Temperature in degree °C'),\n",
    "                         showlegend=True,\n",
    "                         legend=dict( \n",
    "                            x=1.075,  \n",
    "                            y=1,\n",
    "                            xanchor='right',\n",
    "                            yanchor='top'\n",
    "                        ),\n",
    "                         updatemenus=[\n",
    "                             dict(\n",
    "                                 buttons=list([\n",
    "                                     dict(label='Maximum Temperature',\n",
    "                                          method='update',\n",
    "                                          args=[{'visible': [True] * len(tmax_traces) + [False] * (len(initial_traces) - len(tmax_traces))},\n",
    "                                                {'title': 'Maximum Temperature',\n",
    "                                                 'yaxis': {'title': 'Maximum Temperature in degree °C'}}]),\n",
    "                                     dict(label='Minimum Temperature',\n",
    "                                          method='update',\n",
    "                                          args=[{'visible': [False] * len(tmax_traces) + [True] * len(tmin_traces) + [False] * (len(initial_traces) - len(tmax_traces) - len(tmin_traces))},\n",
    "                                                {'title': 'Minimum Temperature',\n",
    "                                                 'yaxis': {'title': 'Minimum Temperature in degree °C'}}]),\n",
    "                                     dict(label='Precipitation',\n",
    "                                          method='update',\n",
    "                                          args=[{'visible': [False] * (len(tmax_traces) + len(tmin_traces)) + [True] * len(precp_traces) + [False] * (len(initial_traces) - len(tmax_traces) - len(tmin_traces) - len(precp_traces))},\n",
    "                                                {'title': 'Precipitation',\n",
    "                                                 'yaxis': {'title': 'Precipitation in mm'}}]),\n",
    "                                     dict(label='Snowfall',\n",
    "                                          method='update',\n",
    "                                          args=[{'visible': [False] * (len(tmax_traces) + len(tmin_traces) + len(precp_traces)) + [True] * len(snow_traces) + [False] * (len(initial_traces) - len(tmax_traces) - len(tmin_traces) - len(precp_traces) - len(snow_traces))},\n",
    "                                                {'title': 'Snowfall',\n",
    "                                                 'yaxis': {'title': 'Snowfall in mm'}}]),\n",
    "                                     dict(label='Snow Depth',\n",
    "                                          method='update',\n",
    "                                          args=[{'visible': [False] * (len(tmax_traces) + len(tmin_traces) + len(precp_traces) + len(snow_traces)) + [True] * len(snowD_traces)},\n",
    "                                                {'title': 'Snow Depth',\n",
    "                                                 'yaxis': {'title': 'Snow Depth in mm'}}]),\n",
    "                                 ]),\n",
    "                                 direction='down',\n",
    "                                 pad={'r': 10, 't': 10},\n",
    "                                 showactive=True,\n",
    "                                 x=0,\n",
    "                                 xanchor='left',\n",
    "                                 y=1.2,\n",
    "                                 yanchor='top'\n",
    "                             ),\n",
    "                         ])\n",
    "\n",
    "# Create the figure\n",
    "fig = go.Figure(data=initial_traces, layout=graph_layout)\n",
    "\n",
    "# Show the figure\n",
    "fig.show()"
   ]
  },
  {
   "cell_type": "markdown",
   "metadata": {},
   "source": [
    "### Data Comparison\n",
    "Can the data be compared with greenhouse gas emissions data to assess the realtionship between emissions and climate varaibles?"
   ]
  },
  {
   "cell_type": "code",
   "execution_count": null,
   "metadata": {},
   "outputs": [],
   "source": []
  },
  {
   "cell_type": "markdown",
   "metadata": {},
   "source": [
    "# Model Development\n",
    "\n",
    "If the current trends shown in the data continues without any significant change, where would we be in 10/50/100 years from now?"
   ]
  },
  {
   "cell_type": "markdown",
   "metadata": {},
   "source": [
    "# Conclusion"
   ]
  }
 ],
 "metadata": {
  "kernelspec": {
   "display_name": ".venv",
   "language": "python",
   "name": "python3"
  },
  "language_info": {
   "codemirror_mode": {
    "name": "ipython",
    "version": 3
   },
   "file_extension": ".py",
   "mimetype": "text/x-python",
   "name": "python",
   "nbconvert_exporter": "python",
   "pygments_lexer": "ipython3",
   "version": "3.12.2"
  }
 },
 "nbformat": 4,
 "nbformat_minor": 2
}
