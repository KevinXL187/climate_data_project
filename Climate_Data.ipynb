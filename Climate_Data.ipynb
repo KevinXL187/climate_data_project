{
 "cells": [
  {
   "cell_type": "code",
   "execution_count": null,
   "metadata": {},
   "outputs": [],
   "source": [
    "# Setup\n",
    "import pandas as pd\n",
    "import numpy as np\n",
    "import matplotlib as mpl\n",
    "import matplotlib.pyplot as plt\n",
    "import cartopy, os\n"
   ]
  },
  {
   "cell_type": "markdown",
   "metadata": {},
   "source": [
    "# Global Climate Change\n",
    "\n",
    "## Background\n",
    "Climate Change is defined as the long-term changes in Earth's climate and weather patterns and Climate is often defined as the average weather at a particular place or as the mean state and variablility of features such as temperature, precipitiation, and humidity over some extended time period. Shifts in the climate can be natural, such as changes in the sun's activity or it can be anthropogenic. The extent of the current climate change can laragly be attributed to human actvity such as the burning of fossil fuels like coal, oil, and gas. The burning of fossil fuels generates greenhouse gas which traps the sun's heat and therefore rasies the temperature. The average tempertaure of the Earth's surface is now about 1.1 C warm than it was before the indusrial revolution. Climate change means more than just warmer temperatures, it also includes, among others, intense droughts, severe fire, rising sea level, and more intense storms.\n",
    "\n",
    "## Goals\n",
    "The goal of this project is to examine the temperature and precipitation aspects of climate data to understand global and regional trends and the realtion between climate varaibles and greenhouse gas emissions. Futhermore, it aims to model potential future scenarios based on current trends over differnt time horizen.\n",
    "    \n",
    "1. Are there discerbinle trends in temperature and precipitation over the given time period, globally and across different regions/countries?\n",
    "2. Are there regions/countries that are experiencing more drastic changes compared to others?\n",
    "3. Are there any extreme weather events that show a significant increase in frequency or itensity over time\n",
    "4. Are there any discerbinle trends in temperature and precipitation that differs between developed and developing countries?\n",
    "5. Can the data be compared with greenhouse gas emissions data to assess the realtionship between emissions and climate varaibles?\n",
    "6. If the current trends shown in the data continues without any significant change, where would we be in 10/50/100 years from now?\n"
   ]
  },
  {
   "cell_type": "markdown",
   "metadata": {},
   "source": [
    "# Data Gathering\n",
    "## Dataset\n",
    "The main dataset used in this project is the Global Historical Climatology Network - Daily (GHCN-Daily), Version 3 sourced from the National Oceanic and Atmospheric Administration. The dataset is available for public use , with the only limitations being that the \"*NOAA and NCEI cannot provide any warranty as to the accuracy, reliability, or completeness of furnished data. Users assume responsibility to determine the usability of these data. The user is responsible for the results of any application of this data for other than its intended purpose.*\"\n",
    "\n",
    "### Dataset Metadata\n",
    "File Size - 131 GB  <br>\n",
    "Number of Files - 125, 391\n",
    "\n",
    "#### Measurements:\n",
    "1. Precipitations (tenths of mm, PRCP)\n",
    "2. Temperature Max (tenths of degrees C, TMAX)\n",
    "3. Temperature Min (tenths of degrees C, TMIN)\n",
    "4. Temperature Average (tenths of degrees C, TAXN)\n",
    "5. Snowfall (mm, SNOW)\n",
    "6. Snow Depth (mm SNWD)\n",
    "\n",
    "### Data Range\n",
    ">Most Frequent Start Date: 1901-01-01      *(count: 1715)* <br>\n",
    ">Most Frequent End Date: 2024-02-08    *(count: 11137)*\n",
    ">\n",
    ">\n",
    ">Date Range: 1901-01-01 ~ 2023-12-31"
   ]
  },
  {
   "cell_type": "markdown",
   "metadata": {},
   "source": [
    "# Data Cleaning"
   ]
  },
  {
   "cell_type": "markdown",
   "metadata": {},
   "source": [
    "## Filtering Out Irrelevant and Empty Columns"
   ]
  },
  {
   "cell_type": "code",
   "execution_count": null,
   "metadata": {},
   "outputs": [],
   "source": [
    "\n",
    "def filter_csv(input_file, columns):\n",
    "    df_in = pd.read_csv(input_file, dtype=str)\n",
    "    df_columns = df_in.columns.to_list()\n",
    "\n",
    "    valid_col = [col for col in columns if col in df_columns]\n",
    "\n",
    "    #Filter the DataFrame based on columns\n",
    "    filtered_df = df_in[valid_col]\n",
    "\n",
    "    return filtered_df\n",
    "\n",
    "def check_empty_columns(df):\n",
    "    #Filters out the empty columns\n",
    "    filtered_df = df.dropna(axis=1, how=\"all\")\n",
    "\n",
    "    return filtered_df\n",
    "\n",
    "\n",
    "def filter_columns():\n",
    "    #columns names in csv file\n",
    "    col = [\"TMAX\", 'TMIN', 'TAXN', 'PRCP', 'SNOW', 'SNWD', 'DATE', 'STATION']\n",
    "\n",
    "    input_loc = r'Data\\\\'\n",
    "    output_loc = r'Filtered Data'\n",
    "\n",
    "    #filter file in dir to perfect & other folder based contents\n",
    "    for item in os.listdir(input_loc):\n",
    "        df = filter_csv(input_loc+ item, col)\n",
    "        \n",
    "        filter_df = check_empty_columns(df)\n",
    "\n",
    "        filter_df.to_csv(os.path.join(output_loc, item), index=False)\n"
   ]
  },
  {
   "cell_type": "markdown",
   "metadata": {},
   "source": [
    "## Filtering Out Files Without Requisite Data"
   ]
  },
  {
   "cell_type": "code",
   "execution_count": null,
   "metadata": {},
   "outputs": [],
   "source": [
    "def filter_columns(df):\n",
    "    temp_col = [\"TMAX\", \"TMIN\"]\n",
    "    avgTemp_col = [\"TAXN\"]\n",
    "    other_col = [\"PRCP\", 'SNOW', 'SNWD']\n",
    "\n",
    "    df_col = df.columns.to_list()\n",
    "\n",
    "    temp_cond = all(col in df_col for col in temp_col)\n",
    "    avgTemp_cond = all(col in df_col for col in avgTemp_col)\n",
    "\n",
    "    if temp_cond or avgTemp_cond:\n",
    "        if all(col in df_col for col in other_col): return 'pt' #add to perfect data\n",
    "        else: return 'tp' #add to temp data\n",
    "    else: return 'pr' #only precipitation data\n",
    "\n",
    "def run_filter():\n",
    "    #columns names in csv file\n",
    "    col = [\"TMAX\", 'TMIN', 'TAXN', 'PRCP', 'SNOW', 'SNWD', 'DATE', 'STATION']\n",
    "\n",
    "    input_loc = r'Data\\\\'\n",
    "    output_loc = r'Filtered Data'\n",
    "\n",
    "    #filter file in dir to perfect & other folder based contents\n",
    "    for item in os.listdir(input_loc):\n",
    "        filter_df = pd.read_csv(input_loc+item, dtype=str)\n",
    "\n",
    "        key = filter_columns(filter_df)\n",
    "\n",
    "        # check the key to see which folder to put csv file in Filtered Data\n",
    "        if key == 'pt': filter_df.to_csv(os.path.join(output_loc, 'Perfect', item), index=False)\n",
    "        if key == 'tp': filter_df.to_csv(os.path.join(output_loc, 'Temperature', item), index=False)\n",
    "        if key == 'pr': filter_df.to_csv(os.path.join(output_loc, 'Precipitation', item), index=False)"
   ]
  },
  {
   "cell_type": "markdown",
   "metadata": {},
   "source": [
    "## Filtering out Data Over Defined Threshold"
   ]
  },
  {
   "cell_type": "code",
   "execution_count": null,
   "metadata": {},
   "outputs": [],
   "source": []
  },
  {
   "cell_type": "markdown",
   "metadata": {},
   "source": [
    "## Handling Missing Data"
   ]
  },
  {
   "cell_type": "code",
   "execution_count": null,
   "metadata": {},
   "outputs": [],
   "source": []
  },
  {
   "cell_type": "markdown",
   "metadata": {},
   "source": [
    "## Data Aggregation (Temporal and Spatial)"
   ]
  },
  {
   "cell_type": "code",
   "execution_count": null,
   "metadata": {},
   "outputs": [],
   "source": []
  },
  {
   "cell_type": "markdown",
   "metadata": {},
   "source": [
    "## Data Comparison"
   ]
  },
  {
   "cell_type": "code",
   "execution_count": null,
   "metadata": {},
   "outputs": [],
   "source": []
  },
  {
   "cell_type": "markdown",
   "metadata": {},
   "source": [
    "# Data Exploration and Feature Engineering\n",
    "\n",
    "### Trends\n",
    "Are there discerbinle trends in temperature and precipitation over the given time period, globally and across different regions/countries?\n",
    "Are there any extreme weather events that show a significant increase in frequency or itensity over time\n",
    "\n",
    "### Regional Trend Comparison\n",
    "Are there regions/countries that are experiencing more drastic changes compared to others?\n",
    "Are there any discerbinle trends in temperature and precipitation that differs between developed and developing countries?\n",
    "\n",
    "### Data Comparison\n",
    "Can the data be compared with greenhouse gas emissions data to assess the realtionship between emissions and climate varaibles?"
   ]
  },
  {
   "cell_type": "markdown",
   "metadata": {},
   "source": [
    "# Model Development\n",
    "\n",
    "If the current trends shown in the data continues without any significant change, where would we be in 10/50/100 years from now?"
   ]
  },
  {
   "cell_type": "markdown",
   "metadata": {},
   "source": [
    "# Model Evaluation and Selection"
   ]
  },
  {
   "cell_type": "markdown",
   "metadata": {},
   "source": [
    "# Conclusion"
   ]
  }
 ],
 "metadata": {
  "kernelspec": {
   "display_name": ".venv",
   "language": "python",
   "name": "python3"
  },
  "language_info": {
   "name": "python",
   "version": "3.11.5"
  }
 },
 "nbformat": 4,
 "nbformat_minor": 2
}
