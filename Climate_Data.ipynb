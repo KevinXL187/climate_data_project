{
 "cells": [
  {
   "cell_type": "markdown",
   "metadata": {},
   "source": [
    "### Date Range\n",
    "\n",
    ">Most Frequent Start Date: 1901-01-01      *(count: 1715)* <br>\n",
    ">Most Frequent End Date: 2024-02-08    *(count: 11137)*\n",
    ">\n",
    ">\n",
    ">Date Range: 1901-01-01 ~ 2023-12-31"
   ]
  }
 ],
 "metadata": {
  "language_info": {
   "name": "python"
  }
 },
 "nbformat": 4,
 "nbformat_minor": 2
}
