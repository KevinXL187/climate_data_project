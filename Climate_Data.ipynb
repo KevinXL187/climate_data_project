{
 "cells": [
  {
   "cell_type": "code",
   "execution_count": null,
   "metadata": {},
   "outputs": [],
   "source": [
    "# Setup\n",
    "import pandas as pd\n",
    "import numpy as np\n",
    "import matplotlib as mpl\n",
    "import matplotlib.pyplot as plt\n",
    "import cartopy\n"
   ]
  },
  {
   "cell_type": "markdown",
   "metadata": {},
   "source": [
    "# Global Climate Change\n",
    "\n",
    "## Background\n",
    "Climate Change is defined as the long-term changes in Earth's climate and weather patterns and Climate is often defined as the average weather at a particular place or as the mean state and variablility of features such as temperature, precipitiation, and humidity over some extended time period. Shifts in the climate can be natural, such as changes in the sun's activity or it can be anthropogenic. The extent of the current climate change can laragly be attributed to human actvity such as the burning of fossil fuels like coal, oil, and gas. The burning of fossil fuels generates greenhouse gas which traps the sun's heat and therefore rasies the temperature. The average tempertaure of the Earth's surface is now about 1.1 C warm than it was before the indusrial revolution. Climate change means more than just warmer temperatures, it also includes, among others, intense droughts, severe fire, rising sea level, and more intense storms.\n",
    "\n",
    "## Goals\n",
    "The goal of this project is to examine the temperature and precipitation aspects of climate data to understand global and regional trends and the realtion between climate varaibles and greenhouse gas emissions. Futhermore, it aims to model potential future scenarios based on current trends over differnt time horizen.\n",
    "    \n",
    "1. Are there discerbinle trends in temperature and precipitation over the given time period, globally and across different regions/countries?\n",
    "2. Are there regions/countries that are experiencing more drastic changes compared to others?\n",
    "3. Are there any extreme weather events that show a significant increase in frequency or itensity over time\n",
    "4. Are there any discerbinle trends in temperature and precipitation that differs between developed and developing countries?\n",
    "5. Can the data be compared with greenhouse gas emissions data to assess the realtionship between emissions and climate varaibles?\n",
    "6. If the current trends shown in the data continues without any significant change, where would we be in 10/50/100 years from now?\n"
   ]
  },
  {
   "cell_type": "markdown",
   "metadata": {},
   "source": [
    "# Data Gathering\n",
    "## Dataset\n",
    "The main dataset used in this project is the Global Historical Climatology Network - Daily (GHCN-Daily), Version 3 sourced from the National Oceanic and Atmospheric Administration. The dataset is available for public use , with the only limitations being that the \"*NOAA and NCEI cannot provide any warranty as to the accuracy, reliability, or completeness of furnished data. Users assume responsibility to determine the usability of these data. The user is responsible for the results of any application of this data for other than its intended purpose.*\"\n",
    "\n",
    "Dataset metainfo:\n",
    "<br>\n",
    "Coloumns:\n",
    "\n",
    "### Data Range\n",
    ">Most Frequent Start Date: 1901-01-01      *(count: 1715)* <br>\n",
    ">Most Frequent End Date: 2024-02-08    *(count: 11137)*\n",
    ">\n",
    ">\n",
    ">Date Range: 1901-01-01 ~ 2023-12-31"
   ]
  },
  {
   "cell_type": "markdown",
   "metadata": {},
   "source": [
    "# Data Cleaning\n",
    "\n",
    "### Filtering Out Irrelevant And Empty Columns\n",
    "### Filtering Out Files Without Requisite Data\n",
    "### Filtering out Data Over Defined Threshold\n",
    "### Handling Missing Data\n",
    "### Data Aggregation (Temporal and Spatial)\n",
    "### Comparison with Reference Data"
   ]
  },
  {
   "cell_type": "markdown",
   "metadata": {},
   "source": [
    "# Data Exploration and Feature Engineering\n",
    "\n",
    "### Trends\n",
    "Are there discerbinle trends in temperature and precipitation over the given time period, globally and across different regions/countries?\n",
    "Are there any extreme weather events that show a significant increase in frequency or itensity over time\n",
    "\n",
    "### Regional Trend Comparison\n",
    "Are there regions/countries that are experiencing more drastic changes compared to others?\n",
    "Are there any discerbinle trends in temperature and precipitation that differs between developed and developing countries?\n",
    "\n",
    "### Data Comparison\n",
    "Can the data be compared with greenhouse gas emissions data to assess the realtionship between emissions and climate varaibles?"
   ]
  },
  {
   "cell_type": "markdown",
   "metadata": {},
   "source": [
    "# Model Development\n",
    "\n",
    "If the current trends shown in the data continues without any significant change, where would we be in 10/50/100 years from now?"
   ]
  },
  {
   "cell_type": "markdown",
   "metadata": {},
   "source": [
    "# Model Evaluation and Selection"
   ]
  },
  {
   "cell_type": "markdown",
   "metadata": {},
   "source": [
    "# Conclusion"
   ]
  }
 ],
 "metadata": {
  "kernelspec": {
   "display_name": ".venv",
   "language": "python",
   "name": "python3"
  },
  "language_info": {
   "name": "python",
   "version": "3.11.5"
  }
 },
 "nbformat": 4,
 "nbformat_minor": 2
}
